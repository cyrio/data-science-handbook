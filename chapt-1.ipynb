{
 "cells": [
  {
   "cell_type": "code",
   "execution_count": 1,
   "id": "7eb45f7b-4064-4e64-8098-9da467449a60",
   "metadata": {
    "tags": []
   },
   "outputs": [
    {
     "data": {
      "text/plain": [
       "\u001b[0;31mSignature:\u001b[0m \u001b[0mlen\u001b[0m\u001b[0;34m(\u001b[0m\u001b[0mobj\u001b[0m\u001b[0;34m,\u001b[0m \u001b[0;34m/\u001b[0m\u001b[0;34m)\u001b[0m\u001b[0;34m\u001b[0m\u001b[0;34m\u001b[0m\u001b[0m\n",
       "\u001b[0;31mDocstring:\u001b[0m Return the number of items in a container.\n",
       "\u001b[0;31mType:\u001b[0m      builtin_function_or_method"
      ]
     },
     "metadata": {},
     "output_type": "display_data"
    }
   ],
   "source": [
    "len?"
   ]
  },
  {
   "cell_type": "code",
   "execution_count": 1,
   "id": "585f8af6-1b63-4657-b0de-48ad712a66cc",
   "metadata": {},
   "outputs": [
    {
     "data": {
      "text/plain": [
       "12"
      ]
     },
     "execution_count": 1,
     "metadata": {},
     "output_type": "execute_result"
    }
   ],
   "source": [
    "  >>> 12"
   ]
  },
  {
   "cell_type": "code",
   "execution_count": 2,
   "id": "e233392b-5680-46b5-b138-46b10288610e",
   "metadata": {
    "tags": []
   },
   "outputs": [],
   "source": [
    "l1 = [1, 2, 3]"
   ]
  },
  {
   "cell_type": "code",
   "execution_count": 3,
   "id": "890785d1-4724-4552-b48f-860eabc4a870",
   "metadata": {
    "tags": []
   },
   "outputs": [
    {
     "data": {
      "text/plain": [
       "[1, 2, 3]"
      ]
     },
     "execution_count": 3,
     "metadata": {},
     "output_type": "execute_result"
    }
   ],
   "source": [
    ">>> l1"
   ]
  },
  {
   "cell_type": "code",
   "execution_count": 5,
   "id": "f682836c-fa2c-4f56-9d89-44b457b24828",
   "metadata": {
    "tags": []
   },
   "outputs": [
    {
     "data": {
      "text/plain": [
       "((1, 2, 3), (1, 2, 3), 140652197759744, 140652197759744)"
      ]
     },
     "execution_count": 5,
     "metadata": {},
     "output_type": "execute_result"
    }
   ],
   "source": [
    "t = 1, 2, 3,\n",
    "u = t\n",
    "u, t, id(u), id(t)"
   ]
  },
  {
   "cell_type": "markdown",
   "id": "78c33c14-e89c-431e-b306-563e0135cb62",
   "metadata": {},
   "source": [
    "## `%xmode` - mode de gestion des affichages des rapports d'erreurs"
   ]
  },
  {
   "cell_type": "code",
   "execution_count": 6,
   "id": "3b539a05-2873-4c9e-b0d3-9594f2fdd388",
   "metadata": {
    "tags": []
   },
   "outputs": [
    {
     "ename": "TypeError",
     "evalue": "'tuple' object does not support item assignment",
     "output_type": "error",
     "traceback": [
      "\u001b[0;31m---------------------------------------------------------------------------\u001b[0m",
      "\u001b[0;31mTypeError\u001b[0m                                 Traceback (most recent call last)",
      "Cell \u001b[0;32mIn[6], line 1\u001b[0m\n\u001b[0;32m----> 1\u001b[0m t[\u001b[38;5;241m1\u001b[39m] \u001b[38;5;241m=\u001b[39m \u001b[38;5;241m3\u001b[39m\n",
      "\u001b[0;31mTypeError\u001b[0m: 'tuple' object does not support item assignment"
     ]
    }
   ],
   "source": [
    "t[1] = 3"
   ]
  },
  {
   "cell_type": "markdown",
   "id": "378f777a-d4f4-445b-aa84-e4f3aea3cf2f",
   "metadata": {},
   "source": [
    "<p>\n",
    "    %xmode: valeur par défaut - \n",
    "    Exception reporting mode: Context\n",
    "</p>"
   ]
  },
  {
   "cell_type": "code",
   "execution_count": 6,
   "id": "84423d25-4b8c-44f3-899c-2b77484eaf3d",
   "metadata": {
    "tags": []
   },
   "outputs": [
    {
     "name": "stdout",
     "output_type": "stream",
     "text": [
      "Exception reporting mode: Plain\n"
     ]
    }
   ],
   "source": [
    "%xmode Plain"
   ]
  },
  {
   "cell_type": "markdown",
   "id": "27a7ecff-88a6-4967-bf0b-53a2db7afe7e",
   "metadata": {},
   "source": [
    "<p>\n",
    "    %xmode:  Exception reporting mode: Plain - renvoie un peu plus d'information que le mode Context\n",
    "</p>"
   ]
  },
  {
   "cell_type": "code",
   "execution_count": 7,
   "id": "1ae67b9a-de31-4b55-9d4f-4352df078129",
   "metadata": {
    "tags": []
   },
   "outputs": [
    {
     "ename": "TypeError",
     "evalue": "'tuple' object does not support item assignment",
     "output_type": "error",
     "traceback": [
      "Traceback \u001b[0;36m(most recent call last)\u001b[0m:\n",
      "\u001b[0;36m  Cell \u001b[0;32mIn[7], line 1\u001b[0;36m\n\u001b[0;31m    t[1] = 3\u001b[0;36m\n",
      "\u001b[0;31mTypeError\u001b[0m\u001b[0;31m:\u001b[0m 'tuple' object does not support item assignment\n"
     ]
    }
   ],
   "source": [
    "t[1] = 3"
   ]
  },
  {
   "cell_type": "code",
   "execution_count": 8,
   "id": "fd49f7ba-2222-4ffc-8f2d-0dc26b073aeb",
   "metadata": {
    "tags": []
   },
   "outputs": [
    {
     "name": "stdout",
     "output_type": "stream",
     "text": [
      "Exception reporting mode: Verbose\n"
     ]
    }
   ],
   "source": [
    "%xmode Verbose"
   ]
  },
  {
   "cell_type": "markdown",
   "id": "b50f37ea-4f1e-4f01-9799-d887111666bc",
   "metadata": {},
   "source": [
    "\n",
    "   %xmode:  `Exception reporting mode: Verbose`\n",
    "   renvoie beaucoup plus d'information que le mode Context et Plain, \n",
    "    devient très lourd quand le code est complexe. Utiliser les autres valeurs dans ce cas. Ou bien gérer sois même les exceptions et les logs.\n"
   ]
  },
  {
   "cell_type": "code",
   "execution_count": 9,
   "id": "649b00b6-656d-4cad-8e6d-439c2dd3b8e3",
   "metadata": {
    "tags": []
   },
   "outputs": [
    {
     "ename": "TypeError",
     "evalue": "'tuple' object does not support item assignment",
     "output_type": "error",
     "traceback": [
      "\u001b[0;31m---------------------------------------------------------------------------\u001b[0m",
      "\u001b[0;31mTypeError\u001b[0m                                 Traceback (most recent call last)",
      "Cell \u001b[0;32mIn[9], line 1\u001b[0m\n\u001b[0;32m----> 1\u001b[0m t[\u001b[38;5;241m1\u001b[39m] \u001b[38;5;241m=\u001b[39m \u001b[38;5;241m3\u001b[39m\n        t[1] \u001b[0;34m= 2\u001b[0m\u001b[0;34m\n        \u001b[0mt \u001b[0;34m= (1, 2, 3)\u001b[0m\n",
      "\u001b[0;31mTypeError\u001b[0m: 'tuple' object does not support item assignment"
     ]
    }
   ],
   "source": [
    "t[1] = 3"
   ]
  },
  {
   "cell_type": "code",
   "execution_count": 10,
   "id": "2948e1eb-09d8-4f2d-b653-c9310e72d3a2",
   "metadata": {
    "tags": []
   },
   "outputs": [
    {
     "name": "stdout",
     "output_type": "stream",
     "text": [
      "Exception reporting mode: Context\n"
     ]
    }
   ],
   "source": [
    "%xmode Context"
   ]
  },
  {
   "cell_type": "code",
   "execution_count": 11,
   "id": "aa5f087c-ab6d-4bdf-a034-f31760627662",
   "metadata": {
    "tags": []
   },
   "outputs": [
    {
     "ename": "TypeError",
     "evalue": "'tuple' object does not support item assignment",
     "output_type": "error",
     "traceback": [
      "\u001b[0;31m---------------------------------------------------------------------------\u001b[0m",
      "\u001b[0;31mTypeError\u001b[0m                                 Traceback (most recent call last)",
      "Cell \u001b[0;32mIn[11], line 1\u001b[0m\n\u001b[0;32m----> 1\u001b[0m t[\u001b[38;5;241m1\u001b[39m] \u001b[38;5;241m=\u001b[39m \u001b[38;5;241m3\u001b[39m\n",
      "\u001b[0;31mTypeError\u001b[0m: 'tuple' object does not support item assignment"
     ]
    }
   ],
   "source": [
    "t[1] = 3"
   ]
  },
  {
   "cell_type": "markdown",
   "id": "1e1e0ce7-ce56-4cb4-b77e-7e81683213ea",
   "metadata": {},
   "source": [
    "## Affectation par référence"
   ]
  },
  {
   "cell_type": "code",
   "execution_count": 12,
   "id": "b4b5c9b0-12b5-44c7-9a2d-d683b22e254c",
   "metadata": {
    "tags": []
   },
   "outputs": [
    {
     "data": {
      "text/plain": [
       "([1, 2], [1, 2], 140466713809408, 140466713809408)"
      ]
     },
     "execution_count": 12,
     "metadata": {},
     "output_type": "execute_result"
    }
   ],
   "source": [
    "li = [1, 2]\n",
    "lo = li\n",
    "li, lo, id(li), id(lo)"
   ]
  },
  {
   "cell_type": "code",
   "execution_count": 13,
   "id": "2c99ba36-1670-49c7-ba9e-636542078c6a",
   "metadata": {
    "tags": []
   },
   "outputs": [
    {
     "data": {
      "text/plain": [
       "([1, 3], [1, 3], 140466713809408, 140466713809408)"
      ]
     },
     "execution_count": 13,
     "metadata": {},
     "output_type": "execute_result"
    }
   ],
   "source": [
    "li[1] = 3\n",
    "li, lo, id(li), id(lo)"
   ]
  },
  {
   "cell_type": "code",
   "execution_count": 29,
   "id": "aacd3afa-1bfd-44d5-a0b8-fe92ed4c85c4",
   "metadata": {
    "tags": []
   },
   "outputs": [],
   "source": [
    "def fac(n:int)->int:\n",
    "    if n in (0,1):\n",
    "        return 1\n",
    "    return int(n*fac(n-1))\n"
   ]
  },
  {
   "cell_type": "code",
   "execution_count": 15,
   "id": "e555c645-7e37-41a2-bf64-77c4ead96d11",
   "metadata": {
    "tags": []
   },
   "outputs": [
    {
     "data": {
      "text/plain": [
       "1"
      ]
     },
     "execution_count": 15,
     "metadata": {},
     "output_type": "execute_result"
    }
   ],
   "source": [
    "fac(1)"
   ]
  },
  {
   "cell_type": "code",
   "execution_count": 16,
   "id": "c811ec66-b59d-4c81-9d9b-789e96add21f",
   "metadata": {
    "tags": []
   },
   "outputs": [
    {
     "data": {
      "text/plain": [
       "1"
      ]
     },
     "execution_count": 16,
     "metadata": {},
     "output_type": "execute_result"
    }
   ],
   "source": [
    "fac(0)"
   ]
  },
  {
   "cell_type": "code",
   "execution_count": 27,
   "id": "be165320-7fbc-4e73-86b2-0e5aa9eed0f8",
   "metadata": {
    "tags": []
   },
   "outputs": [
    {
     "data": {
      "text/plain": [
       "2432902008176640000"
      ]
     },
     "execution_count": 27,
     "metadata": {},
     "output_type": "execute_result"
    }
   ],
   "source": [
    "fac(20)"
   ]
  },
  {
   "cell_type": "markdown",
   "id": "bb1760f1-baf5-4085-9913-40cf907011c8",
   "metadata": {},
   "source": [
    "## Les SET - quelques opérations utiles"
   ]
  },
  {
   "cell_type": "code",
   "execution_count": 20,
   "id": "cd8a0531-a6d4-45bf-8df2-e05ba4172f5a",
   "metadata": {
    "tags": []
   },
   "outputs": [],
   "source": [
    "unensemble = {\"chou\",\"carotte\",\"joujou\",\"fifi\",\"loulou\"}"
   ]
  },
  {
   "cell_type": "code",
   "execution_count": 21,
   "id": "ac1a59ec-935d-47c5-beab-a0bc16fd226a",
   "metadata": {
    "tags": []
   },
   "outputs": [],
   "source": [
    "vide = set()"
   ]
  },
  {
   "cell_type": "code",
   "execution_count": 22,
   "id": "7b1100c4-8366-45d1-9a3b-3c5de0772ed7",
   "metadata": {
    "tags": []
   },
   "outputs": [
    {
     "data": {
      "text/plain": [
       "set()"
      ]
     },
     "execution_count": 22,
     "metadata": {},
     "output_type": "execute_result"
    }
   ],
   "source": [
    ">>> vide"
   ]
  },
  {
   "cell_type": "code",
   "execution_count": 23,
   "id": "eb6686d8-5cb7-4b54-b511-5fa2849f5048",
   "metadata": {
    "tags": []
   },
   "outputs": [
    {
     "data": {
      "text/plain": [
       "0"
      ]
     },
     "execution_count": 23,
     "metadata": {},
     "output_type": "execute_result"
    }
   ],
   "source": [
    "len(vide)"
   ]
  },
  {
   "cell_type": "code",
   "execution_count": 24,
   "id": "378a67eb-b2f3-4172-afee-e83475599c3b",
   "metadata": {
    "tags": []
   },
   "outputs": [
    {
     "data": {
      "text/plain": [
       "5"
      ]
     },
     "execution_count": 24,
     "metadata": {},
     "output_type": "execute_result"
    }
   ],
   "source": [
    "len(unensemble)"
   ]
  },
  {
   "cell_type": "code",
   "execution_count": 25,
   "id": "f841acf5-d917-48d0-9b13-a05abb97da32",
   "metadata": {
    "tags": []
   },
   "outputs": [
    {
     "ename": "TypeError",
     "evalue": "unsupported operand type(s) for |=: 'set' and 'str'",
     "output_type": "error",
     "traceback": [
      "\u001b[0;31m---------------------------------------------------------------------------\u001b[0m",
      "\u001b[0;31mTypeError\u001b[0m                                 Traceback (most recent call last)",
      "Cell \u001b[0;32mIn[25], line 1\u001b[0m\n\u001b[0;32m----> 1\u001b[0m vide \u001b[38;5;241m|\u001b[39m\u001b[38;5;241m=\u001b[39m \u001b[38;5;124m\"\u001b[39m\u001b[38;5;124mbool\u001b[39m\u001b[38;5;124m\"\u001b[39m\n",
      "\u001b[0;31mTypeError\u001b[0m: unsupported operand type(s) for |=: 'set' and 'str'"
     ]
    }
   ],
   "source": [
    "vide |= \"bool\""
   ]
  },
  {
   "cell_type": "code",
   "execution_count": 30,
   "id": "ef6ce0e7-79c2-4dc0-8d24-073e751cc87f",
   "metadata": {
    "tags": []
   },
   "outputs": [],
   "source": [
    "vide |= {\"bool\"}"
   ]
  },
  {
   "cell_type": "code",
   "execution_count": 31,
   "id": "eb1fa999-e65a-46d8-8e45-78f1defc492f",
   "metadata": {
    "tags": []
   },
   "outputs": [
    {
     "data": {
      "text/plain": [
       "{'bool'}"
      ]
     },
     "execution_count": 31,
     "metadata": {},
     "output_type": "execute_result"
    }
   ],
   "source": [
    ">>> vide"
   ]
  },
  {
   "cell_type": "code",
   "execution_count": 32,
   "id": "b3cd256b-5f17-4b00-b891-220da5b6b349",
   "metadata": {
    "tags": []
   },
   "outputs": [
    {
     "ename": "TypeError",
     "evalue": "'set' object is not subscriptable",
     "output_type": "error",
     "traceback": [
      "\u001b[0;31m---------------------------------------------------------------------------\u001b[0m",
      "\u001b[0;31mTypeError\u001b[0m                                 Traceback (most recent call last)",
      "Cell \u001b[0;32mIn[32], line 1\u001b[0m\n\u001b[0;32m----> 1\u001b[0m \u001b[43mvide\u001b[49m\u001b[43m[\u001b[49m\u001b[38;5;241;43m0\u001b[39;49m\u001b[43m]\u001b[49m\n",
      "\u001b[0;31mTypeError\u001b[0m: 'set' object is not subscriptable"
     ]
    }
   ],
   "source": [
    ">>> vide[0]"
   ]
  },
  {
   "cell_type": "code",
   "execution_count": 33,
   "id": "229c2631-c2b5-4bc3-81e4-301dbdcb5387",
   "metadata": {
    "tags": []
   },
   "outputs": [
    {
     "ename": "TypeError",
     "evalue": "'set' object is not subscriptable",
     "output_type": "error",
     "traceback": [
      "\u001b[0;31m---------------------------------------------------------------------------\u001b[0m",
      "\u001b[0;31mTypeError\u001b[0m                                 Traceback (most recent call last)",
      "Cell \u001b[0;32mIn[33], line 1\u001b[0m\n\u001b[0;32m----> 1\u001b[0m \u001b[43mvide\u001b[49m\u001b[43m[\u001b[49m\u001b[38;5;241;43m1\u001b[39;49m\u001b[43m]\u001b[49m\n",
      "\u001b[0;31mTypeError\u001b[0m: 'set' object is not subscriptable"
     ]
    }
   ],
   "source": [
    ">>> vide[1]"
   ]
  },
  {
   "cell_type": "code",
   "execution_count": 34,
   "id": "47ae5a57-65a4-4f04-9b7a-dce756ce48cb",
   "metadata": {
    "tags": []
   },
   "outputs": [
    {
     "ename": "SyntaxError",
     "evalue": "invalid syntax (3953077305.py, line 1)",
     "output_type": "error",
     "traceback": [
      "\u001b[0;36m  Cell \u001b[0;32mIn[34], line 1\u001b[0;36m\u001b[0m\n\u001b[0;31m    vide.?\u001b[0m\n\u001b[0m         ^\u001b[0m\n\u001b[0;31mSyntaxError\u001b[0m\u001b[0;31m:\u001b[0m invalid syntax\n"
     ]
    }
   ],
   "source": [
    "vide.?"
   ]
  },
  {
   "cell_type": "code",
   "execution_count": 36,
   "id": "3c62d49f-4d6f-439f-bdf7-794417e38ab0",
   "metadata": {
    "tags": []
   },
   "outputs": [
    {
     "data": {
      "text/plain": [
       "vide.__and__\n",
       "vide.__class__\n",
       "vide.__class_getitem__\n",
       "vide.__contains__\n",
       "vide.__delattr__\n",
       "vide.__dir__\n",
       "vide.__doc__\n",
       "vide.__eq__\n",
       "vide.__format__\n",
       "vide.__ge__\n",
       "vide.__getattribute__\n",
       "vide.__gt__\n",
       "vide.__hash__\n",
       "vide.__iand__\n",
       "vide.__init__\n",
       "vide.__init_subclass__\n",
       "vide.__ior__\n",
       "vide.__isub__\n",
       "vide.__iter__\n",
       "vide.__ixor__\n",
       "vide.__le__\n",
       "vide.__len__\n",
       "vide.__lt__\n",
       "vide.__ne__\n",
       "vide.__new__\n",
       "vide.__or__\n",
       "vide.__rand__\n",
       "vide.__reduce__\n",
       "vide.__reduce_ex__\n",
       "vide.__repr__\n",
       "vide.__ror__\n",
       "vide.__rsub__\n",
       "vide.__rxor__\n",
       "vide.__setattr__\n",
       "vide.__sizeof__\n",
       "vide.__str__\n",
       "vide.__sub__\n",
       "vide.__subclasshook__\n",
       "vide.__xor__\n",
       "vide.add\n",
       "vide.clear\n",
       "vide.copy\n",
       "vide.difference\n",
       "vide.difference_update\n",
       "vide.discard\n",
       "vide.intersection\n",
       "vide.intersection_update\n",
       "vide.isdisjoint\n",
       "vide.issubset\n",
       "vide.issuperset\n",
       "vide.pop\n",
       "vide.remove\n",
       "vide.symmetric_difference\n",
       "vide.symmetric_difference_update\n",
       "vide.union\n",
       "vide.update"
      ]
     },
     "metadata": {},
     "output_type": "display_data"
    }
   ],
   "source": [
    "vide.*?"
   ]
  },
  {
   "cell_type": "code",
   "execution_count": 37,
   "id": "a6e2204d-e40d-49ea-bc34-a2f9cbb262d1",
   "metadata": {
    "tags": []
   },
   "outputs": [
    {
     "data": {
      "text/plain": [
       "\u001b[0;31mDocstring:\u001b[0m\n",
       "Return the union of sets as a new set.\n",
       "\n",
       "(i.e. all elements that are in either set.)\n",
       "\u001b[0;31mType:\u001b[0m      builtin_function_or_method"
      ]
     },
     "metadata": {},
     "output_type": "display_data"
    }
   ],
   "source": [
    "vide.union?"
   ]
  },
  {
   "cell_type": "code",
   "execution_count": 38,
   "id": "0534fc80-93e4-458b-b011-6b840d0ffca1",
   "metadata": {
    "tags": []
   },
   "outputs": [
    {
     "data": {
      "text/plain": [
       "['__call__',\n",
       " '__class__',\n",
       " '__delattr__',\n",
       " '__dir__',\n",
       " '__doc__',\n",
       " '__eq__',\n",
       " '__format__',\n",
       " '__ge__',\n",
       " '__get__',\n",
       " '__getattribute__',\n",
       " '__gt__',\n",
       " '__hash__',\n",
       " '__init__',\n",
       " '__init_subclass__',\n",
       " '__le__',\n",
       " '__lt__',\n",
       " '__name__',\n",
       " '__ne__',\n",
       " '__new__',\n",
       " '__objclass__',\n",
       " '__qualname__',\n",
       " '__reduce__',\n",
       " '__reduce_ex__',\n",
       " '__repr__',\n",
       " '__setattr__',\n",
       " '__sizeof__',\n",
       " '__str__',\n",
       " '__subclasshook__',\n",
       " '__text_signature__']"
      ]
     },
     "execution_count": 38,
     "metadata": {},
     "output_type": "execute_result"
    }
   ],
   "source": [
    "dir(set.union)"
   ]
  },
  {
   "cell_type": "code",
   "execution_count": 39,
   "id": "da79500e-396c-4401-aeba-16c7d91b2405",
   "metadata": {
    "tags": []
   },
   "outputs": [
    {
     "data": {
      "text/plain": [
       "{'2', '3', 'bool'}"
      ]
     },
     "execution_count": 39,
     "metadata": {},
     "output_type": "execute_result"
    }
   ],
   "source": [
    "vide.union(\"2\",\"3\")"
   ]
  },
  {
   "cell_type": "code",
   "execution_count": 40,
   "id": "4d1b8bbf-dacf-4242-aa2c-ca8db0984b4b",
   "metadata": {
    "tags": []
   },
   "outputs": [
    {
     "data": {
      "text/plain": [
       "{' ',\n",
       " '0',\n",
       " '4',\n",
       " '5',\n",
       " '6',\n",
       " '8',\n",
       " 'a',\n",
       " 'b',\n",
       " 'bool',\n",
       " 'i',\n",
       " 'l',\n",
       " 'm',\n",
       " 'o',\n",
       " 's',\n",
       " 'u',\n",
       " 'x'}"
      ]
     },
     "execution_count": 40,
     "metadata": {},
     "output_type": "execute_result"
    }
   ],
   "source": [
    "vide.union(\"bam bam\",\"x80\",\"louis\",\"456\")"
   ]
  },
  {
   "cell_type": "code",
   "execution_count": 41,
   "id": "db20af38-da75-4587-aca1-2819c39aabdf",
   "metadata": {
    "tags": []
   },
   "outputs": [
    {
     "data": {
      "text/plain": [
       "{'bool'}"
      ]
     },
     "execution_count": 41,
     "metadata": {},
     "output_type": "execute_result"
    }
   ],
   "source": [
    "vide.clear\n",
    ">>> vide"
   ]
  },
  {
   "cell_type": "code",
   "execution_count": 42,
   "id": "ef2ed47b-dcf7-4a14-8519-97294354ebf4",
   "metadata": {
    "tags": []
   },
   "outputs": [
    {
     "data": {
      "text/plain": [
       "{' ',\n",
       " '0',\n",
       " '4',\n",
       " '5',\n",
       " '6',\n",
       " '8',\n",
       " 'a',\n",
       " 'b',\n",
       " 'bool',\n",
       " 'i',\n",
       " 'l',\n",
       " 'm',\n",
       " 'o',\n",
       " 's',\n",
       " 'u',\n",
       " 'x'}"
      ]
     },
     "execution_count": 42,
     "metadata": {},
     "output_type": "execute_result"
    }
   ],
   "source": [
    "vide.union(\"bam bam\",\"x80\",\"louis\",\"456\")"
   ]
  },
  {
   "cell_type": "code",
   "execution_count": 43,
   "id": "4b2ab030-cf16-4ab9-a300-c090ce52147e",
   "metadata": {
    "tags": []
   },
   "outputs": [
    {
     "data": {
      "text/plain": [
       "{'bool'}"
      ]
     },
     "execution_count": 43,
     "metadata": {},
     "output_type": "execute_result"
    }
   ],
   "source": [
    ">>> vide"
   ]
  },
  {
   "cell_type": "code",
   "execution_count": 44,
   "id": "0ffb27a8-901c-44ba-92a2-9ccd2077fb43",
   "metadata": {
    "tags": []
   },
   "outputs": [
    {
     "data": {
      "text/plain": [
       "{'456', 'bam bam', 'bool', 'louis', 'x80'}"
      ]
     },
     "execution_count": 44,
     "metadata": {},
     "output_type": "execute_result"
    }
   ],
   "source": [
    "vide |= {\"bam bam\",\"x80\",\"louis\",\"456\"}\n",
    ">>> vide"
   ]
  },
  {
   "cell_type": "code",
   "execution_count": 47,
   "id": "7e821262-b758-436a-8f43-78a40605afd5",
   "metadata": {
    "tags": []
   },
   "outputs": [],
   "source": [
    "vide.clear()"
   ]
  },
  {
   "cell_type": "code",
   "execution_count": 48,
   "id": "50026407-75d4-496b-9a3d-6658f1106c6e",
   "metadata": {
    "tags": []
   },
   "outputs": [
    {
     "data": {
      "text/plain": [
       "set()"
      ]
     },
     "execution_count": 48,
     "metadata": {},
     "output_type": "execute_result"
    }
   ],
   "source": [
    ">>> vide"
   ]
  },
  {
   "cell_type": "code",
   "execution_count": 49,
   "id": "a2915888-4092-4c00-9644-28a583f16d4b",
   "metadata": {
    "tags": []
   },
   "outputs": [
    {
     "data": {
      "text/plain": [
       "{'5'}"
      ]
     },
     "execution_count": 49,
     "metadata": {},
     "output_type": "execute_result"
    }
   ],
   "source": [
    "vide.add(\"5\")\n",
    ">>> vide"
   ]
  },
  {
   "cell_type": "code",
   "execution_count": 50,
   "id": "a61ff788-d92d-4836-8e4b-98c812038040",
   "metadata": {
    "tags": []
   },
   "outputs": [
    {
     "ename": "TypeError",
     "evalue": "set.pop() takes no arguments (1 given)",
     "output_type": "error",
     "traceback": [
      "\u001b[0;31m---------------------------------------------------------------------------\u001b[0m",
      "\u001b[0;31mTypeError\u001b[0m                                 Traceback (most recent call last)",
      "Cell \u001b[0;32mIn[50], line 1\u001b[0m\n\u001b[0;32m----> 1\u001b[0m \u001b[43mvide\u001b[49m\u001b[38;5;241;43m.\u001b[39;49m\u001b[43mpop\u001b[49m\u001b[43m(\u001b[49m\u001b[38;5;124;43m\"\u001b[39;49m\u001b[38;5;124;43m6\u001b[39;49m\u001b[38;5;124;43m\"\u001b[39;49m\u001b[43m)\u001b[49m\n\u001b[1;32m      2\u001b[0m vide\n",
      "\u001b[0;31mTypeError\u001b[0m: set.pop() takes no arguments (1 given)"
     ]
    }
   ],
   "source": [
    "vide.pop(\"6\")\n",
    ">>> vide"
   ]
  },
  {
   "cell_type": "code",
   "execution_count": 51,
   "id": "23593b3e-9c63-4a2e-860f-a48ae92419bf",
   "metadata": {
    "tags": []
   },
   "outputs": [
    {
     "data": {
      "text/plain": [
       "\u001b[0;31mDocstring:\u001b[0m\n",
       "Remove and return an arbitrary set element.\n",
       "Raises KeyError if the set is empty.\n",
       "\u001b[0;31mType:\u001b[0m      builtin_function_or_method"
      ]
     },
     "metadata": {},
     "output_type": "display_data"
    }
   ],
   "source": [
    "vide.pop?"
   ]
  },
  {
   "cell_type": "code",
   "execution_count": 52,
   "id": "fb49410e-10f7-4041-8737-b85d9e984e7a",
   "metadata": {
    "tags": []
   },
   "outputs": [
    {
     "data": {
      "text/plain": [
       "\u001b[0;31mDocstring:\u001b[0m Remove all elements from this set.\n",
       "\u001b[0;31mType:\u001b[0m      builtin_function_or_method"
      ]
     },
     "metadata": {},
     "output_type": "display_data"
    }
   ],
   "source": [
    "vide.clear?"
   ]
  },
  {
   "cell_type": "code",
   "execution_count": 53,
   "id": "3356d823-a521-40cf-b716-3b7971ed82e5",
   "metadata": {
    "tags": []
   },
   "outputs": [
    {
     "ename": "TypeError",
     "evalue": "set.add() takes exactly one argument (6 given)",
     "output_type": "error",
     "traceback": [
      "\u001b[0;31m---------------------------------------------------------------------------\u001b[0m",
      "\u001b[0;31mTypeError\u001b[0m                                 Traceback (most recent call last)",
      "Cell \u001b[0;32mIn[53], line 1\u001b[0m\n\u001b[0;32m----> 1\u001b[0m \u001b[43mvide\u001b[49m\u001b[38;5;241;43m.\u001b[39;49m\u001b[43madd\u001b[49m\u001b[43m(\u001b[49m\u001b[38;5;124;43m\"\u001b[39;49m\u001b[38;5;124;43m3\u001b[39;49m\u001b[38;5;124;43m\"\u001b[39;49m\u001b[43m,\u001b[49m\u001b[38;5;124;43m\"\u001b[39;49m\u001b[38;5;124;43m9\u001b[39;49m\u001b[38;5;124;43m\"\u001b[39;49m\u001b[43m,\u001b[49m\u001b[38;5;124;43m\"\u001b[39;49m\u001b[38;5;124;43m123\u001b[39;49m\u001b[38;5;124;43m\"\u001b[39;49m\u001b[43m,\u001b[49m\u001b[38;5;124;43m\"\u001b[39;49m\u001b[38;5;124;43mtoto\u001b[39;49m\u001b[38;5;124;43m\"\u001b[39;49m\u001b[43m,\u001b[49m\u001b[38;5;124;43m\"\u001b[39;49m\u001b[38;5;124;43mriri\u001b[39;49m\u001b[38;5;124;43m\"\u001b[39;49m\u001b[43m,\u001b[49m\u001b[38;5;124;43m\"\u001b[39;49m\u001b[38;5;124;43mfifi\u001b[39;49m\u001b[38;5;124;43m\"\u001b[39;49m\u001b[43m)\u001b[49m\n\u001b[1;32m      2\u001b[0m vide\n",
      "\u001b[0;31mTypeError\u001b[0m: set.add() takes exactly one argument (6 given)"
     ]
    }
   ],
   "source": [
    "vide.add(\"3\",\"9\",\"123\",\"toto\",\"riri\",\"fifi\")\n",
    ">>> vide"
   ]
  },
  {
   "cell_type": "code",
   "execution_count": 55,
   "id": "5c9429b2-d1a8-490b-bc5c-1274b0a8af64",
   "metadata": {
    "tags": []
   },
   "outputs": [],
   "source": [
    "l0 = [\"3\",\"9\",\"123\",\"toto\",\"riri\",\"fifi\"]\n",
    "for i in l0:\n",
    "    vide.add(i)"
   ]
  },
  {
   "cell_type": "code",
   "execution_count": 56,
   "id": "0eac39f3-f1fe-4e45-b34a-97a2a4a52c9a",
   "metadata": {
    "tags": []
   },
   "outputs": [
    {
     "data": {
      "text/plain": [
       "{'123', '3', '5', '9', 'fifi', 'riri', 'toto'}"
      ]
     },
     "execution_count": 56,
     "metadata": {},
     "output_type": "execute_result"
    }
   ],
   "source": [
    ">>> vide"
   ]
  },
  {
   "cell_type": "code",
   "execution_count": 58,
   "id": "c0407821-7e31-4b3a-9352-79a76eb68eb7",
   "metadata": {
    "tags": []
   },
   "outputs": [
    {
     "data": {
      "text/plain": [
       "'toto'"
      ]
     },
     "execution_count": 58,
     "metadata": {},
     "output_type": "execute_result"
    }
   ],
   "source": [
    "vide.pop()"
   ]
  },
  {
   "cell_type": "code",
   "execution_count": 59,
   "id": "207efe21-e237-4376-9d93-db178b3776b0",
   "metadata": {
    "tags": []
   },
   "outputs": [
    {
     "data": {
      "text/plain": [
       "{'123', '3', '5', '9', 'fifi', 'riri'}"
      ]
     },
     "execution_count": 59,
     "metadata": {},
     "output_type": "execute_result"
    }
   ],
   "source": [
    ">>> vide"
   ]
  },
  {
   "cell_type": "code",
   "execution_count": 60,
   "id": "ecb6fcb9-ef9d-4f3f-943c-49816491cb8e",
   "metadata": {
    "tags": []
   },
   "outputs": [
    {
     "data": {
      "text/plain": [
       "'riri'"
      ]
     },
     "execution_count": 60,
     "metadata": {},
     "output_type": "execute_result"
    }
   ],
   "source": [
    "vide.pop()"
   ]
  },
  {
   "cell_type": "code",
   "execution_count": 61,
   "id": "fbb671eb-c2d5-4cb5-916c-1b4938f02de5",
   "metadata": {
    "tags": []
   },
   "outputs": [
    {
     "data": {
      "text/plain": [
       "{'123', '3', '5', '9', 'fifi'}"
      ]
     },
     "execution_count": 61,
     "metadata": {},
     "output_type": "execute_result"
    }
   ],
   "source": [
    ">>> vide"
   ]
  },
  {
   "cell_type": "code",
   "execution_count": 62,
   "id": "7d90d957-6103-4b21-9fd3-f90668f65d41",
   "metadata": {
    "tags": []
   },
   "outputs": [],
   "source": [
    "vide.remove('5')"
   ]
  },
  {
   "cell_type": "code",
   "execution_count": 63,
   "id": "afe2bab8-f44b-4631-ba1a-4959b20b6cbb",
   "metadata": {
    "tags": []
   },
   "outputs": [
    {
     "data": {
      "text/plain": [
       "{'123', '3', '9', 'fifi'}"
      ]
     },
     "execution_count": 63,
     "metadata": {},
     "output_type": "execute_result"
    }
   ],
   "source": [
    ">>> vide"
   ]
  },
  {
   "cell_type": "markdown",
   "id": "9c47fbe8-ea45-437c-9f88-dd08b54976ba",
   "metadata": {
    "tags": []
   },
   "source": [
    "## Typage dynamique"
   ]
  },
  {
   "cell_type": "code",
   "execution_count": 3,
   "id": "99beb177-799f-44ae-9a6b-f4b9d7a04e53",
   "metadata": {},
   "outputs": [
    {
     "data": {
      "text/plain": [
       "int"
      ]
     },
     "execution_count": 3,
     "metadata": {},
     "output_type": "execute_result"
    }
   ],
   "source": [
    "a=5\n",
    ">>> type(a)"
   ]
  },
  {
   "cell_type": "code",
   "execution_count": 2,
   "id": "09c3d300-9bb6-4a5f-9556-434ec80e1203",
   "metadata": {
    "tags": []
   },
   "outputs": [
    {
     "data": {
      "text/plain": [
       "str"
      ]
     },
     "execution_count": 2,
     "metadata": {},
     "output_type": "execute_result"
    }
   ],
   "source": [
    "a=\"5\"\n",
    ">>> type(a)"
   ]
  },
  {
   "cell_type": "code",
   "execution_count": 8,
   "id": "270d6664-e75e-479b-ab82-81374cd1120d",
   "metadata": {
    "tags": []
   },
   "outputs": [],
   "source": [
    "x=y=26"
   ]
  },
  {
   "cell_type": "code",
   "execution_count": 9,
   "id": "eecf5dc4-9892-4f53-8c4f-cf42bfba75a4",
   "metadata": {
    "tags": []
   },
   "outputs": [
    {
     "data": {
      "text/plain": [
       "(26, 26, 140652126110736, 140652126110736)"
      ]
     },
     "execution_count": 9,
     "metadata": {},
     "output_type": "execute_result"
    }
   ],
   "source": [
    "x,y, id(x), id(y)"
   ]
  },
  {
   "cell_type": "markdown",
   "id": "097f4870-7b0a-40a6-b8eb-c8b6fe887747",
   "metadata": {
    "tags": []
   },
   "source": [
    "*x et y sont deux étiquettes qui pointent sur le même objet, c'est donc le même objet*"
   ]
  },
  {
   "cell_type": "code",
   "execution_count": 7,
   "id": "6859003a-fc98-475e-8911-f9f58d2447b6",
   "metadata": {
    "tags": []
   },
   "outputs": [
    {
     "ename": "TypeError",
     "evalue": "cannot unpack non-iterable int object",
     "output_type": "error",
     "traceback": [
      "\u001b[0;31m---------------------------------------------------------------------------\u001b[0m",
      "\u001b[0;31mTypeError\u001b[0m                                 Traceback (most recent call last)",
      "Cell \u001b[0;32mIn[7], line 1\u001b[0m\n\u001b[0;32m----> 1\u001b[0m x, y \u001b[38;5;241m=\u001b[39m \u001b[38;5;241m26\u001b[39m\n",
      "\u001b[0;31mTypeError\u001b[0m: cannot unpack non-iterable int object"
     ]
    }
   ],
   "source": [
    "x, y = 26"
   ]
  },
  {
   "cell_type": "markdown",
   "id": "95be803a-62e9-47a8-8050-344a0eac9e71",
   "metadata": {},
   "source": []
  },
  {
   "cell_type": "code",
   "execution_count": 11,
   "id": "87037605-f4b2-471e-a2f5-d232bb3357f2",
   "metadata": {
    "tags": []
   },
   "outputs": [
    {
     "data": {
      "text/plain": [
       "((0.157, float, True, bool, 'A', str), tuple)"
      ]
     },
     "execution_count": 11,
     "metadata": {},
     "output_type": "execute_result"
    }
   ],
   "source": [
    "x, y, z = 0.157, True, \"A\"\n",
    "w = x, type(x), y, type(y), z, type(z)\n",
    "w, type(w)"
   ]
  },
  {
   "cell_type": "code",
   "execution_count": null,
   "id": "56cd8a5b-0e8c-4345-91e0-db8806c1df48",
   "metadata": {},
   "outputs": [],
   "source": []
  }
 ],
 "metadata": {
  "kernelspec": {
   "display_name": "Python 3 (ipykernel)",
   "language": "python",
   "name": "python3"
  },
  "language_info": {
   "codemirror_mode": {
    "name": "ipython",
    "version": 3
   },
   "file_extension": ".py",
   "mimetype": "text/x-python",
   "name": "python",
   "nbconvert_exporter": "python",
   "pygments_lexer": "ipython3",
   "version": "3.10.11"
  }
 },
 "nbformat": 4,
 "nbformat_minor": 5
}
