{
 "cells": [
  {
   "cell_type": "markdown",
   "id": "5b4b95aa-2981-4c0b-b674-5879740b1267",
   "metadata": {},
   "source": [
    "# 02.02 - The Basics of Numpy Arrays"
   ]
  },
  {
   "cell_type": "code",
   "execution_count": 1,
   "id": "8f6eb256-4034-4819-83a0-12c2821b8389",
   "metadata": {},
   "outputs": [],
   "source": [
    "import numpy as np\n",
    "rng = np.random.seed(0)\n",
    "\n",
    "x1 = np.random.randint(10, size=6)\n",
    "x2 = np.random.randint(10, size=(3, 4))\n",
    "x3 = np.random.randint(10, size=(3, 4, 5))"
   ]
  },
  {
   "cell_type": "code",
   "execution_count": 2,
   "id": "830387ef-0a6c-4c5b-9bb7-588c62376198",
   "metadata": {
    "tags": []
   },
   "outputs": [
    {
     "name": "stdout",
     "output_type": "stream",
     "text": [
      " one dimension array : x1 =  [5 0 3 3 7 9]\n",
      " two dimension array : x2 =  [[3 5 2 4]\n",
      " [7 6 8 8]\n",
      " [1 6 7 7]]\n",
      " three dimension array : x3 =  [[[8 1 5 9 8]\n",
      "  [9 4 3 0 3]\n",
      "  [5 0 2 3 8]\n",
      "  [1 3 3 3 7]]\n",
      "\n",
      " [[0 1 9 9 0]\n",
      "  [4 7 3 2 7]\n",
      "  [2 0 0 4 5]\n",
      "  [5 6 8 4 1]]\n",
      "\n",
      " [[4 9 8 1 1]\n",
      "  [7 9 9 3 6]\n",
      "  [7 2 0 3 5]\n",
      "  [9 4 4 6 4]]]\n"
     ]
    }
   ],
   "source": [
    "print(\" one dimension array : x1 = \", x1)\n",
    "print(\" two dimension array : x2 = \", x2)\n",
    "print(\" three dimension array : x3 = \", x3)"
   ]
  },
  {
   "cell_type": "code",
   "execution_count": 7,
   "id": "c6758f41-faaf-4774-884f-a107df34ab0a",
   "metadata": {
    "tags": []
   },
   "outputs": [
    {
     "name": "stdout",
     "output_type": "stream",
     "text": [
      "x3 ndim:  3\n",
      "x3 shape:  (3, 4, 5)\n",
      "x3 size:  60\n",
      "x3 type data:  int64\n"
     ]
    }
   ],
   "source": [
    "print(\"x3 ndim: \", x3.ndim)\n",
    "print(\"x3 shape: \", x3.shape)\n",
    "print(\"x3 size: \", x3.size)\n",
    "print(\"x3 type data: \", x3.dtype)"
   ]
  },
  {
   "cell_type": "code",
   "execution_count": 5,
   "id": "b1c61e54-84af-477f-b918-71f68c285cf8",
   "metadata": {},
   "outputs": [
    {
     "data": {
      "text/plain": [
       "0"
      ]
     },
     "execution_count": 5,
     "metadata": {},
     "output_type": "execute_result"
    }
   ],
   "source": [
    "x1[1]"
   ]
  },
  {
   "cell_type": "code",
   "execution_count": 6,
   "id": "d0ecabca-e0ce-446b-94a7-098d38cbc4e1",
   "metadata": {
    "tags": []
   },
   "outputs": [
    {
     "data": {
      "text/plain": [
       "array([7, 6, 8, 8])"
      ]
     },
     "execution_count": 6,
     "metadata": {},
     "output_type": "execute_result"
    }
   ],
   "source": [
    "x2[1]"
   ]
  },
  {
   "cell_type": "code",
   "execution_count": 8,
   "id": "1932a3a2-c1f5-4be6-849b-539146f9c44b",
   "metadata": {
    "tags": []
   },
   "outputs": [
    {
     "data": {
      "text/plain": [
       "array([[0, 1, 9, 9, 0],\n",
       "       [4, 7, 3, 2, 7],\n",
       "       [2, 0, 0, 4, 5],\n",
       "       [5, 6, 8, 4, 1]])"
      ]
     },
     "execution_count": 8,
     "metadata": {},
     "output_type": "execute_result"
    }
   ],
   "source": [
    "x3[1]"
   ]
  },
  {
   "cell_type": "code",
   "execution_count": 11,
   "id": "7b73244f-dd37-44b0-94fd-6bbc6ab19742",
   "metadata": {
    "tags": []
   },
   "outputs": [
    {
     "name": "stdout",
     "output_type": "stream",
     "text": [
      "x3[1] shape:  (4, 5)\n",
      "x3[1] ndim:  2\n",
      "x3[1] size: 20\n"
     ]
    }
   ],
   "source": [
    "print(\"x3[1] shape: \", x3[1].shape)\n",
    "print(f\"x3[1] ndim: \", x3[1].ndim)\n",
    "print(f\"x3[1] size: {x3[1].size}\")"
   ]
  },
  {
   "cell_type": "code",
   "execution_count": 12,
   "id": "36c8085a-3654-4ccb-9920-2dc3ddfc6df7",
   "metadata": {
    "tags": []
   },
   "outputs": [
    {
     "data": {
      "text/plain": [
       "1"
      ]
     },
     "execution_count": 12,
     "metadata": {},
     "output_type": "execute_result"
    }
   ],
   "source": [
    "x2[2, 0]"
   ]
  },
  {
   "cell_type": "code",
   "execution_count": 13,
   "id": "4913f72c-d978-4f14-8c52-623f664f93cb",
   "metadata": {
    "tags": []
   },
   "outputs": [
    {
     "data": {
      "text/plain": [
       "0"
      ]
     },
     "execution_count": 13,
     "metadata": {},
     "output_type": "execute_result"
    }
   ],
   "source": [
    "x3[0,2,1]"
   ]
  },
  {
   "cell_type": "markdown",
   "id": "f424769f-a10d-4f8b-b573-acf7475673a3",
   "metadata": {},
   "source": [
    "### Slicing : Accessing sub array"
   ]
  },
  {
   "cell_type": "code",
   "execution_count": 14,
   "id": "6bf8facd-3b72-4f4d-bd50-34a751641471",
   "metadata": {
    "tags": []
   },
   "outputs": [
    {
     "data": {
      "text/plain": [
       "array([5, 0, 3, 3, 7, 9])"
      ]
     },
     "execution_count": 14,
     "metadata": {},
     "output_type": "execute_result"
    }
   ],
   "source": [
    "x1"
   ]
  },
  {
   "cell_type": "code",
   "execution_count": 15,
   "id": "03015b4c-f864-47a1-87e2-e660e5b3f687",
   "metadata": {
    "tags": []
   },
   "outputs": [
    {
     "data": {
      "text/plain": [
       "array([5, 0, 3])"
      ]
     },
     "execution_count": 15,
     "metadata": {},
     "output_type": "execute_result"
    }
   ],
   "source": [
    "x1[:3]"
   ]
  },
  {
   "cell_type": "code",
   "execution_count": 16,
   "id": "1ea75619-4f09-41ff-898f-d21c99be4896",
   "metadata": {
    "tags": []
   },
   "outputs": [
    {
     "data": {
      "text/plain": [
       "array([3, 7, 9])"
      ]
     },
     "execution_count": 16,
     "metadata": {},
     "output_type": "execute_result"
    }
   ],
   "source": [
    "x1[3:]"
   ]
  },
  {
   "cell_type": "code",
   "execution_count": 17,
   "id": "1dca2b9e-bfd2-42bf-bcd5-1016ce1d352d",
   "metadata": {
    "tags": []
   },
   "outputs": [
    {
     "data": {
      "text/plain": [
       "array([0, 3, 3])"
      ]
     },
     "execution_count": 17,
     "metadata": {},
     "output_type": "execute_result"
    }
   ],
   "source": [
    "x1[1:4]"
   ]
  },
  {
   "cell_type": "code",
   "execution_count": 18,
   "id": "b2e9fa5c-3c8a-445e-910b-b6393bdcefbe",
   "metadata": {
    "tags": []
   },
   "outputs": [
    {
     "data": {
      "text/plain": [
       "array([5, 3, 7])"
      ]
     },
     "execution_count": 18,
     "metadata": {},
     "output_type": "execute_result"
    }
   ],
   "source": [
    "x1[::2]"
   ]
  },
  {
   "cell_type": "code",
   "execution_count": 19,
   "id": "300e820e-c23f-461a-82a5-f02f6ee943d7",
   "metadata": {
    "tags": []
   },
   "outputs": [
    {
     "data": {
      "text/plain": [
       "array([0, 3, 9])"
      ]
     },
     "execution_count": 19,
     "metadata": {},
     "output_type": "execute_result"
    }
   ],
   "source": [
    "x1[1::2]"
   ]
  },
  {
   "cell_type": "code",
   "execution_count": 22,
   "id": "d5faf54e-dfde-4420-b07d-d84af431bcd7",
   "metadata": {
    "tags": []
   },
   "outputs": [
    {
     "data": {
      "text/plain": [
       "array([9, 7, 3, 3, 0, 5])"
      ]
     },
     "execution_count": 22,
     "metadata": {},
     "output_type": "execute_result"
    }
   ],
   "source": [
    "x1[::-1] ## reversed"
   ]
  },
  {
   "cell_type": "code",
   "execution_count": 21,
   "id": "e6f11fca-e70f-46a4-8dbf-c17bd8f5a6b9",
   "metadata": {
    "tags": []
   },
   "outputs": [
    {
     "data": {
      "text/plain": [
       "array([5, 0, 3, 3, 7, 9])"
      ]
     },
     "execution_count": 21,
     "metadata": {},
     "output_type": "execute_result"
    }
   ],
   "source": [
    "x1"
   ]
  },
  {
   "cell_type": "code",
   "execution_count": 23,
   "id": "38b52507-ed63-46ca-912f-099ff1e009fc",
   "metadata": {
    "tags": []
   },
   "outputs": [
    {
     "data": {
      "text/plain": [
       "array([7, 3, 5])"
      ]
     },
     "execution_count": 23,
     "metadata": {},
     "output_type": "execute_result"
    }
   ],
   "source": [
    "x1[4::-2]"
   ]
  },
  {
   "cell_type": "code",
   "execution_count": 25,
   "id": "e9007290-c019-46ed-9aea-132a753d8eee",
   "metadata": {
    "tags": []
   },
   "outputs": [
    {
     "data": {
      "text/plain": [
       "array([[3, 5, 2, 4],\n",
       "       [7, 6, 8, 8],\n",
       "       [1, 6, 7, 7]])"
      ]
     },
     "execution_count": 25,
     "metadata": {},
     "output_type": "execute_result"
    }
   ],
   "source": [
    "x2"
   ]
  },
  {
   "cell_type": "code",
   "execution_count": 24,
   "id": "451e3c6b-7db1-4ab4-9aaf-099f8aad0ace",
   "metadata": {
    "tags": []
   },
   "outputs": [
    {
     "data": {
      "text/plain": [
       "array([[3, 5, 2],\n",
       "       [7, 6, 8]])"
      ]
     },
     "execution_count": 24,
     "metadata": {},
     "output_type": "execute_result"
    }
   ],
   "source": [
    "x2[:2, :3]"
   ]
  },
  {
   "cell_type": "code",
   "execution_count": 27,
   "id": "8d691d09-3521-4200-8065-8fc7e50d857d",
   "metadata": {
    "tags": []
   },
   "outputs": [
    {
     "data": {
      "text/plain": [
       "array([[7, 7, 6, 1],\n",
       "       [8, 8, 6, 7],\n",
       "       [4, 2, 5, 3]])"
      ]
     },
     "execution_count": 27,
     "metadata": {},
     "output_type": "execute_result"
    }
   ],
   "source": [
    "x2[::-1, ::-1] # all rows & columns, reversed"
   ]
  },
  {
   "cell_type": "code",
   "execution_count": 28,
   "id": "2b862762-f145-4d72-b710-72212f112820",
   "metadata": {
    "tags": []
   },
   "outputs": [
    {
     "data": {
      "text/plain": [
       "array([3, 5, 2, 4])"
      ]
     },
     "execution_count": 28,
     "metadata": {},
     "output_type": "execute_result"
    }
   ],
   "source": [
    "x2[0]"
   ]
  },
  {
   "cell_type": "markdown",
   "id": "df791dc4-d8e2-4688-a569-9afaa28836c2",
   "metadata": {},
   "source": [
    "### Subarrays as No-Copy Views\n",
    "> Unlike Python list slices, <span style=\"color:red\">NumPy array slices are returned as views rather than copies </span> of the array data"
   ]
  },
  {
   "cell_type": "code",
   "execution_count": 29,
   "id": "1c84ff12-5f68-42df-8aa9-f8f4f6057959",
   "metadata": {
    "tags": []
   },
   "outputs": [
    {
     "name": "stdout",
     "output_type": "stream",
     "text": [
      "[[3 5 2 4]\n",
      " [7 6 8 8]\n",
      " [1 6 7 7]]\n"
     ]
    }
   ],
   "source": [
    "print(x2)"
   ]
  },
  {
   "cell_type": "code",
   "execution_count": 33,
   "id": "168e1236-b456-420b-9969-2349ee15ab10",
   "metadata": {
    "tags": []
   },
   "outputs": [
    {
     "name": "stdout",
     "output_type": "stream",
     "text": [
      "[[99  5]\n",
      " [ 7  6]]\n"
     ]
    }
   ],
   "source": [
    "x2_sub = x2[:2, :2] # let's extract 2 * 2 subarray from x2\n",
    "print(x2_sub)"
   ]
  },
  {
   "cell_type": "code",
   "execution_count": 34,
   "id": "3b64bad8-76cc-4ea4-9a59-3cd5fbbf0844",
   "metadata": {
    "tags": []
   },
   "outputs": [
    {
     "name": "stdout",
     "output_type": "stream",
     "text": [
      "[[99  5]\n",
      " [ 7  6]]\n"
     ]
    }
   ],
   "source": [
    "x2_sub[0, 0] = 99 # let's modify this subarray\n",
    "print(x2_sub)"
   ]
  },
  {
   "cell_type": "code",
   "execution_count": 35,
   "id": "c8fa404b-4694-47cd-af92-60ab45df59a0",
   "metadata": {
    "tags": []
   },
   "outputs": [
    {
     "name": "stdout",
     "output_type": "stream",
     "text": [
      "[[99  5  2  4]\n",
      " [ 7  6  8  8]\n",
      " [ 1  6  7  7]]\n"
     ]
    }
   ],
   "source": [
    "print(x2) # Now , we'll see that the original array is changed!"
   ]
  },
  {
   "cell_type": "markdown",
   "id": "07150942-b484-41e6-b371-12082cd28600",
   "metadata": {},
   "source": [
    "> Some users may find this surprising, but it can be advantageous: for example, when working with large datasets, we can access and process <span style=\"color:red\"> pieces of these datasets without the need to copy the underlying data buffer</span>."
   ]
  },
  {
   "cell_type": "markdown",
   "id": "402d7f32-c915-414d-bcd9-ffbc201c5df9",
   "metadata": {},
   "source": [
    "### Creating copies of Arrays"
   ]
  },
  {
   "cell_type": "code",
   "execution_count": 36,
   "id": "e196b309-1049-4ecb-b01d-01c7d7e2edfb",
   "metadata": {
    "tags": []
   },
   "outputs": [
    {
     "name": "stdout",
     "output_type": "stream",
     "text": [
      "[[99  5]\n",
      " [ 7  6]]\n"
     ]
    }
   ],
   "source": [
    "x2_sub_copy = x2[:2, :2].copy()\n",
    "print(x2_sub_copy)"
   ]
  },
  {
   "cell_type": "code",
   "execution_count": 41,
   "id": "c0d2afae-0e15-405d-9c15-496f456cd0c0",
   "metadata": {
    "tags": []
   },
   "outputs": [
    {
     "name": "stdout",
     "output_type": "stream",
     "text": [
      "[[2 5]\n",
      " [7 6]]\n"
     ]
    }
   ],
   "source": [
    "## If we now modify this subarray...\n",
    "x2_sub_copy[0, 0] = 2   \n",
    "print(x2_sub_copy)"
   ]
  },
  {
   "cell_type": "code",
   "execution_count": 42,
   "id": "02fb9603-e283-441e-9bd6-12b2dc8fe746",
   "metadata": {
    "tags": []
   },
   "outputs": [
    {
     "name": "stdout",
     "output_type": "stream",
     "text": [
      "[[99  5  2  4]\n",
      " [ 7  6  8  8]\n",
      " [ 1  6  7  7]]\n"
     ]
    }
   ],
   "source": [
    "# ... the original array is not touched\n",
    "print(x2)"
   ]
  },
  {
   "cell_type": "markdown",
   "id": "ab2b64e6-597f-4bd2-be0e-723e283e3000",
   "metadata": {},
   "source": [
    "### Reshaping of Arrays"
   ]
  },
  {
   "cell_type": "code",
   "execution_count": 43,
   "id": "6a633f3a-44a8-4bb2-aa4e-f4fc48c4f9d8",
   "metadata": {
    "tags": []
   },
   "outputs": [
    {
     "data": {
      "text/plain": [
       "array([1, 2, 3, 4, 5, 6, 7, 8, 9])"
      ]
     },
     "execution_count": 43,
     "metadata": {},
     "output_type": "execute_result"
    }
   ],
   "source": [
    "grid = np.arange(1, 10)\n",
    "grid"
   ]
  },
  {
   "cell_type": "code",
   "execution_count": 44,
   "id": "7711f0e6-526e-4ef8-a3a7-9eb7002fe3b5",
   "metadata": {
    "tags": []
   },
   "outputs": [
    {
     "name": "stdout",
     "output_type": "stream",
     "text": [
      "[[1 2 3]\n",
      " [4 5 6]\n",
      " [7 8 9]]\n"
     ]
    }
   ],
   "source": [
    "print(grid.reshape(3, 3))"
   ]
  },
  {
   "cell_type": "markdown",
   "id": "5f1ac596-ab21-4709-86b0-b3bbbc752975",
   "metadata": {
    "tags": []
   },
   "source": [
    "> Note that for this to work, the size of the initial array must match the size of the reshaped array, and in most cases the reshape method will return a no-copy view of the initial array."
   ]
  },
  {
   "cell_type": "code",
   "execution_count": 45,
   "id": "fbc8d231-22c2-48ae-8a85-d69074d511f0",
   "metadata": {
    "tags": []
   },
   "outputs": [
    {
     "data": {
      "text/plain": [
       "array([[1, 2, 3]])"
      ]
     },
     "execution_count": 45,
     "metadata": {},
     "output_type": "execute_result"
    }
   ],
   "source": [
    " x = np.array([1, 2, 3])\n",
    " x.reshape((1, 3))"
   ]
  },
  {
   "cell_type": "code",
   "execution_count": 46,
   "id": "2856fe81-e987-4593-bc3f-8155f3312e5e",
   "metadata": {
    "tags": []
   },
   "outputs": [
    {
     "data": {
      "text/plain": [
       "array([[1],\n",
       "       [2],\n",
       "       [3]])"
      ]
     },
     "execution_count": 46,
     "metadata": {},
     "output_type": "execute_result"
    }
   ],
   "source": [
    "x.reshape((3, 1))"
   ]
  },
  {
   "cell_type": "markdown",
   "id": "664ebc32-906a-4f20-8683-d26e9a9bf044",
   "metadata": {},
   "source": [
    "### Array Concatenation and Splitting"
   ]
  },
  {
   "cell_type": "code",
   "execution_count": 47,
   "id": "6afdf2c4-9828-4b7a-a212-96c270445b6d",
   "metadata": {
    "tags": []
   },
   "outputs": [
    {
     "data": {
      "text/plain": [
       "array([1, 2, 3, 3, 1, 2])"
      ]
     },
     "execution_count": 47,
     "metadata": {},
     "output_type": "execute_result"
    }
   ],
   "source": [
    "x = np.array([1, 2, 3])\n",
    "y = np.array([3, 1, 2])\n",
    "np.concatenate([x, y])"
   ]
  },
  {
   "cell_type": "code",
   "execution_count": 49,
   "id": "64e936db-c410-4ced-9429-155174ce3a7f",
   "metadata": {
    "tags": []
   },
   "outputs": [
    {
     "name": "stdout",
     "output_type": "stream",
     "text": [
      "[ 1  2  3  3  1  2 99 99 99]\n"
     ]
    }
   ],
   "source": [
    " z = np.array([99, 99, 99])\n",
    "print(np.concatenate([x, y, z]))"
   ]
  },
  {
   "cell_type": "code",
   "execution_count": null,
   "id": "8f8224c3-775d-4f02-a61c-63dba7222765",
   "metadata": {},
   "outputs": [],
   "source": []
  }
 ],
 "metadata": {
  "kernelspec": {
   "display_name": "Python 3 (ipykernel)",
   "language": "python",
   "name": "python3"
  },
  "language_info": {
   "codemirror_mode": {
    "name": "ipython",
    "version": 3
   },
   "file_extension": ".py",
   "mimetype": "text/x-python",
   "name": "python",
   "nbconvert_exporter": "python",
   "pygments_lexer": "ipython3",
   "version": "3.10.11"
  }
 },
 "nbformat": 4,
 "nbformat_minor": 5
}
