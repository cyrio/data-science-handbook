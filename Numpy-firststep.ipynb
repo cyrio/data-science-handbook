{
 "cells": [
  {
   "cell_type": "markdown",
   "id": "d34fbe5f-57a5-4b02-9710-8437519b9aca",
   "metadata": {},
   "source": [
    "## List in Python"
   ]
  },
  {
   "cell_type": "code",
   "execution_count": 26,
   "id": "09b72a72-fc95-4ea7-8f39-94701ddb6031",
   "metadata": {
    "tags": []
   },
   "outputs": [
    {
     "data": {
      "text/plain": [
       "[0, 1, 2, 3, 4, 5, 6, 7, 8, 9, 10]"
      ]
     },
     "execution_count": 26,
     "metadata": {},
     "output_type": "execute_result"
    }
   ],
   "source": [
    "L = list(range(11))\n",
    "L"
   ]
  },
  {
   "cell_type": "code",
   "execution_count": 27,
   "id": "91e98829-8ef3-4f59-a8eb-c09d55455bbe",
   "metadata": {
    "tags": []
   },
   "outputs": [
    {
     "data": {
      "text/plain": [
       "int"
      ]
     },
     "execution_count": 27,
     "metadata": {},
     "output_type": "execute_result"
    }
   ],
   "source": [
    "type(L[0])"
   ]
  },
  {
   "cell_type": "code",
   "execution_count": 28,
   "id": "e1b048b6-df80-49b2-9957-f3665223f16f",
   "metadata": {
    "tags": []
   },
   "outputs": [],
   "source": [
    "Lstr = [str(c) for c in L]"
   ]
  },
  {
   "cell_type": "code",
   "execution_count": 29,
   "id": "ba04a497-df1c-4300-b75d-c573ea0dde78",
   "metadata": {
    "tags": []
   },
   "outputs": [
    {
     "data": {
      "text/plain": [
       "['0', '1', '2', '3', '4', '5', '6', '7', '8', '9', '10']"
      ]
     },
     "execution_count": 29,
     "metadata": {},
     "output_type": "execute_result"
    }
   ],
   "source": [
    "Lstr"
   ]
  },
  {
   "cell_type": "code",
   "execution_count": 30,
   "id": "98661a1f-91ad-4b32-8df7-10079b2617aa",
   "metadata": {
    "tags": []
   },
   "outputs": [
    {
     "data": {
      "text/plain": [
       "str"
      ]
     },
     "execution_count": 30,
     "metadata": {},
     "output_type": "execute_result"
    }
   ],
   "source": [
    "type(Lstr[0])"
   ]
  },
  {
   "cell_type": "code",
   "execution_count": 31,
   "id": "fee1a647-affc-4d80-ace3-00b1d55a1033",
   "metadata": {
    "tags": []
   },
   "outputs": [
    {
     "data": {
      "text/plain": [
       "[bool, float, str, int, str]"
      ]
     },
     "execution_count": 31,
     "metadata": {},
     "output_type": "execute_result"
    }
   ],
   "source": [
    "L3 = [True, 1.05, 'coucou', 6, '7']\n",
    "[type(c) for c in L3]"
   ]
  },
  {
   "cell_type": "markdown",
   "id": "47bdb753-92d3-4f75-acc2-ccaa8b707fb7",
   "metadata": {},
   "source": [
    "## Fixed-type Arrays in Python"
   ]
  },
  {
   "cell_type": "code",
   "execution_count": 33,
   "id": "13a788f0-c356-4436-b70a-65bc1fd257c7",
   "metadata": {
    "tags": []
   },
   "outputs": [
    {
     "data": {
      "text/plain": [
       "array('i', [0, 1, 2, 3, 4, 5, 6, 7, 8, 9])"
      ]
     },
     "execution_count": 33,
     "metadata": {},
     "output_type": "execute_result"
    }
   ],
   "source": [
    "import array\n",
    "L = list(range(10))\n",
    "A = array.array('i',L)\n",
    "A"
   ]
  },
  {
   "cell_type": "markdown",
   "id": "738a89f7-fbc6-4bb7-8b1d-dfac84eb31df",
   "metadata": {},
   "source": [
    "## Creating Arrays from Python Lists"
   ]
  },
  {
   "cell_type": "code",
   "execution_count": 21,
   "id": "6f2bd43d-1568-4d76-84b1-2e34c2b58884",
   "metadata": {
    "tags": []
   },
   "outputs": [],
   "source": [
    "import numpy as np"
   ]
  },
  {
   "cell_type": "code",
   "execution_count": 36,
   "id": "43293489-2bfe-4062-9dd8-5c836d26f918",
   "metadata": {
    "tags": []
   },
   "outputs": [
    {
     "data": {
      "text/plain": [
       "array([1, 2, 3, 6, 5, 4])"
      ]
     },
     "execution_count": 36,
     "metadata": {},
     "output_type": "execute_result"
    }
   ],
   "source": [
    "L1 = np.array([1, 2, 3, 6, 5, 4])\n",
    "L1"
   ]
  },
  {
   "cell_type": "code",
   "execution_count": 41,
   "id": "42ee4513-98e2-4d23-ba1e-3f839fc57cce",
   "metadata": {
    "tags": []
   },
   "outputs": [
    {
     "data": {
      "text/plain": [
       "dtype('int64')"
      ]
     },
     "execution_count": 41,
     "metadata": {},
     "output_type": "execute_result"
    }
   ],
   "source": [
    "L1.dtype"
   ]
  },
  {
   "cell_type": "code",
   "execution_count": 45,
   "id": "007db602-5779-414a-afcb-832fcc89b636",
   "metadata": {
    "tags": []
   },
   "outputs": [
    {
     "data": {
      "text/plain": [
       "array([3.14, 4.  , 2.  , 3.  ])"
      ]
     },
     "execution_count": 45,
     "metadata": {},
     "output_type": "execute_result"
    }
   ],
   "source": [
    "# upcast int to float implicitly\n",
    "L2 =np.array([3.14, 4, 2, 3])\n",
    "L2"
   ]
  },
  {
   "cell_type": "code",
   "execution_count": 42,
   "id": "245ed4c3-e7ef-4699-a593-bfac305da8ed",
   "metadata": {
    "tags": []
   },
   "outputs": [
    {
     "data": {
      "text/plain": [
       "dtype('float64')"
      ]
     },
     "execution_count": 42,
     "metadata": {},
     "output_type": "execute_result"
    }
   ],
   "source": [
    "L2.dtype"
   ]
  },
  {
   "cell_type": "code",
   "execution_count": 46,
   "id": "afbbba8b-b0af-4448-8932-9ed2c868969b",
   "metadata": {
    "tags": []
   },
   "outputs": [
    {
     "data": {
      "text/plain": [
       "array([ 3.   , 14.1  ,  4.   ,  2.125,  3.   ])"
      ]
     },
     "execution_count": 46,
     "metadata": {},
     "output_type": "execute_result"
    }
   ],
   "source": [
    "# upcast int to float implicitly\n",
    "L3 = np.array([3, 14.1, 4.0, 2.125, 3])\n",
    "L3"
   ]
  },
  {
   "cell_type": "code",
   "execution_count": 48,
   "id": "c9a6cdd3-a5a5-4056-8afc-108e1c3f9ba3",
   "metadata": {
    "tags": []
   },
   "outputs": [
    {
     "data": {
      "text/plain": [
       "array([1., 2., 3., 4.], dtype=float32)"
      ]
     },
     "execution_count": 48,
     "metadata": {},
     "output_type": "execute_result"
    }
   ],
   "source": [
    "# upcast int to float explicitly using dtype\n",
    "L4 = np.array([1, 2, 3, 4], dtype=np.float32)\n",
    "L4"
   ]
  },
  {
   "cell_type": "code",
   "execution_count": 52,
   "id": "c4742873-f2d6-4d79-bebc-42d154839770",
   "metadata": {
    "tags": []
   },
   "outputs": [
    {
     "data": {
      "text/plain": [
       "array([[2, 3, 4],\n",
       "       [4, 5, 6],\n",
       "       [6, 7, 8]])"
      ]
     },
     "execution_count": 52,
     "metadata": {},
     "output_type": "execute_result"
    }
   ],
   "source": [
    "# nested lists result in multidimensional arrays\n",
    "L5 = np.array([range(i, i + 3) for i in [2, 4, 6]])\n",
    "L5"
   ]
  },
  {
   "cell_type": "markdown",
   "id": "486927d5-7dff-4e71-8723-0075cb510b62",
   "metadata": {},
   "source": [
    "## Creating Arrays from Scratch"
   ]
  },
  {
   "cell_type": "code",
   "execution_count": 54,
   "id": "e407bee7-034d-4adf-97de-95cff405d064",
   "metadata": {
    "tags": []
   },
   "outputs": [
    {
     "data": {
      "text/plain": [
       "array([0, 0, 0, 0, 0, 0, 0, 0, 0, 0])"
      ]
     },
     "execution_count": 54,
     "metadata": {},
     "output_type": "execute_result"
    }
   ],
   "source": [
    "# Create a length-10 integer array filled with 0s\n",
    "zeros_array = np.zeros(10, dtype=int)\n",
    "zeros_array"
   ]
  },
  {
   "cell_type": "code",
   "execution_count": 55,
   "id": "213dc283-88fd-4dcd-b185-b70fc074a2f8",
   "metadata": {
    "tags": []
   },
   "outputs": [
    {
     "data": {
      "text/plain": [
       "array([[1., 1., 1., 1., 1.],\n",
       "       [1., 1., 1., 1., 1.],\n",
       "       [1., 1., 1., 1., 1.]])"
      ]
     },
     "execution_count": 55,
     "metadata": {},
     "output_type": "execute_result"
    }
   ],
   "source": [
    "# Create a 3 * 5 floating-point array filled with 1s\n",
    "ones_array = np.ones((3, 5), dtype=float)\n",
    "ones_array"
   ]
  },
  {
   "cell_type": "code",
   "execution_count": 57,
   "id": "60d87100-f9a0-456f-8e2d-90583efd6a08",
   "metadata": {
    "tags": []
   },
   "outputs": [
    {
     "data": {
      "text/plain": [
       "array([[3.14, 3.14, 3.14, 3.14, 3.14],\n",
       "       [3.14, 3.14, 3.14, 3.14, 3.14],\n",
       "       [3.14, 3.14, 3.14, 3.14, 3.14]])"
      ]
     },
     "execution_count": 57,
     "metadata": {},
     "output_type": "execute_result"
    }
   ],
   "source": [
    "# Create a 3*5 array filled with 3.14\n",
    "pi_array = np.full((3, 5), 3.14)\n",
    "pi_array"
   ]
  },
  {
   "cell_type": "code",
   "execution_count": 58,
   "id": "0f95baaa-4035-4aeb-b657-60bd9a9d797d",
   "metadata": {
    "tags": []
   },
   "outputs": [
    {
     "data": {
      "text/plain": [
       "array([[2023, 2023, 2023, 2023, 2023, 2023],\n",
       "       [2023, 2023, 2023, 2023, 2023, 2023],\n",
       "       [2023, 2023, 2023, 2023, 2023, 2023],\n",
       "       [2023, 2023, 2023, 2023, 2023, 2023]])"
      ]
     },
     "execution_count": 58,
     "metadata": {},
     "output_type": "execute_result"
    }
   ],
   "source": [
    "# Create a 4 * 6 array filled with 2023\n",
    "this_year_array = np.full((4, 6), 2023)\n",
    "this_year_array"
   ]
  },
  {
   "cell_type": "code",
   "execution_count": 59,
   "id": "b7e8040d-aba0-4267-a8b6-eeb49c967e93",
   "metadata": {
    "tags": []
   },
   "outputs": [
    {
     "data": {
      "text/plain": [
       "array([[0., 0., 0., 0., 0.],\n",
       "       [0., 0., 0., 0., 0.],\n",
       "       [0., 0., 0., 0., 0.],\n",
       "       [0., 0., 0., 0., 0.]])"
      ]
     },
     "execution_count": 59,
     "metadata": {},
     "output_type": "execute_result"
    }
   ],
   "source": [
    "zeros_multi = np.zeros((4, 5), dtype=float)\n",
    "zeros_multi"
   ]
  },
  {
   "cell_type": "code",
   "execution_count": 61,
   "id": "26c10dff-66ab-49af-b0a9-412395dcd86a",
   "metadata": {
    "tags": []
   },
   "outputs": [
    {
     "data": {
      "text/plain": [
       "array([ 0,  2,  4,  6,  8, 10, 12, 14, 16, 18])"
      ]
     },
     "execution_count": 61,
     "metadata": {},
     "output_type": "execute_result"
    }
   ],
   "source": [
    "# Create an array filled with a linear sequence\n",
    "# starting at 0, ending at 20, stepping by 2\n",
    "# (this is similar to the built-in range function)\n",
    "even_less_twenty = np.arange(0, 20, 2)\n",
    "even_less_twenty"
   ]
  },
  {
   "cell_type": "code",
   "execution_count": 63,
   "id": "c8845a82-04ad-4c55-b16a-a5d8342b6400",
   "metadata": {
    "tags": []
   },
   "outputs": [
    {
     "data": {
      "text/plain": [
       "array([0.  , 0.25, 0.5 , 0.75, 1.  ])"
      ]
     },
     "execution_count": 63,
     "metadata": {},
     "output_type": "execute_result"
    }
   ],
   "source": [
    "#create an array of five values evenly spaced between 0 and 1\n",
    "np.linspace(0, 1, 5)"
   ]
  },
  {
   "cell_type": "code",
   "execution_count": 64,
   "id": "1754342c-63e7-49c6-9d00-45ec93a2a920",
   "metadata": {
    "tags": []
   },
   "outputs": [
    {
     "data": {
      "text/plain": [
       "array([[0.28392893, 0.46573101, 0.61155583],\n",
       "       [0.73153116, 0.75672968, 0.53732325],\n",
       "       [0.8742884 , 0.43040906, 0.26720628]])"
      ]
     },
     "execution_count": 64,
     "metadata": {},
     "output_type": "execute_result"
    }
   ],
   "source": [
    "# create a 3 * 3 array of uniformly distributed\n",
    "# pseudorandom values between 0 and 1\n",
    "np.random.random((3, 3))"
   ]
  },
  {
   "cell_type": "code",
   "execution_count": 66,
   "id": "10017bf6-5822-4007-9f1e-00d46ee9a8a1",
   "metadata": {
    "tags": []
   },
   "outputs": [
    {
     "data": {
      "text/plain": [
       "array([[-1.28320255, -1.32989219,  0.79358469],\n",
       "       [ 0.9612432 ,  0.49796941, -0.75299144],\n",
       "       [-0.70718374, -0.38359815, -0.89759007]])"
      ]
     },
     "execution_count": 66,
     "metadata": {},
     "output_type": "execute_result"
    }
   ],
   "source": [
    "# Creater a 3 * 3 array of normally distributed pseudorandom\n",
    "# values with mean 0 and standard deviation 1\n",
    "np.random.normal(0, 1, (3, 3))"
   ]
  },
  {
   "cell_type": "code",
   "execution_count": 67,
   "id": "0e74cca2-f61e-4dd5-8225-1bd76a6932b8",
   "metadata": {
    "tags": []
   },
   "outputs": [],
   "source": [
    "# Create a 3 * 3 array of pseudorandom integers in the interval [0, 10]"
   ]
  },
  {
   "cell_type": "code",
   "execution_count": 68,
   "id": "427eb270-ff49-47bc-9897-686c63883574",
   "metadata": {
    "tags": []
   },
   "outputs": [
    {
     "data": {
      "text/plain": [
       "array([[3, 8, 7],\n",
       "       [9, 9, 8],\n",
       "       [9, 1, 0]])"
      ]
     },
     "execution_count": 68,
     "metadata": {},
     "output_type": "execute_result"
    }
   ],
   "source": [
    "np.random.randint(0, 10, (3, 3))"
   ]
  },
  {
   "cell_type": "code",
   "execution_count": 69,
   "id": "177dfff5-7a7a-425d-9888-05298d7ea2a5",
   "metadata": {
    "tags": []
   },
   "outputs": [
    {
     "data": {
      "text/plain": [
       "array([[1., 0., 0.],\n",
       "       [0., 1., 0.],\n",
       "       [0., 0., 1.]])"
      ]
     },
     "execution_count": 69,
     "metadata": {},
     "output_type": "execute_result"
    }
   ],
   "source": [
    "# create a 3 * 3 identity matrix\n",
    "np.eye(3)"
   ]
  },
  {
   "cell_type": "code",
   "execution_count": 70,
   "id": "fbeb955a-14f6-451a-80c3-b0a2af19d571",
   "metadata": {
    "tags": []
   },
   "outputs": [
    {
     "data": {
      "text/plain": [
       "array([1., 1., 1.])"
      ]
     },
     "execution_count": 70,
     "metadata": {},
     "output_type": "execute_result"
    }
   ],
   "source": [
    "np.empty(3)"
   ]
  },
  {
   "cell_type": "code",
   "execution_count": null,
   "id": "b476d1b4-eeb6-4799-88be-fcb52365f448",
   "metadata": {},
   "outputs": [],
   "source": []
  }
 ],
 "metadata": {
  "kernelspec": {
   "display_name": "Python 3 (ipykernel)",
   "language": "python",
   "name": "python3"
  },
  "language_info": {
   "codemirror_mode": {
    "name": "ipython",
    "version": 3
   },
   "file_extension": ".py",
   "mimetype": "text/x-python",
   "name": "python",
   "nbconvert_exporter": "python",
   "pygments_lexer": "ipython3",
   "version": "3.10.11"
  }
 },
 "nbformat": 4,
 "nbformat_minor": 5
}
