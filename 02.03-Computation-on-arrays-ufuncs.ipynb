{
 "cells": [
  {
   "cell_type": "markdown",
   "id": "539387c2-1cce-4db5-9b6d-68301e3db305",
   "metadata": {},
   "source": [
    "# Computation on Numpy Arrays: Universal Functions"
   ]
  },
  {
   "cell_type": "code",
   "execution_count": 1,
   "id": "99f8e973-0ed2-445f-a90a-5c756e66daa7",
   "metadata": {},
   "outputs": [],
   "source": [
    "import numpy as np"
   ]
  },
  {
   "cell_type": "code",
   "execution_count": 2,
   "id": "6f0b35e8-a20d-4f1f-9487-366c46021f7e",
   "metadata": {
    "tags": []
   },
   "outputs": [
    {
     "data": {
      "text/plain": [
       "array([0, 1, 2, 3])"
      ]
     },
     "execution_count": 2,
     "metadata": {},
     "output_type": "execute_result"
    }
   ],
   "source": [
    "x = np.arange(4)\n",
    "x"
   ]
  },
  {
   "cell_type": "code",
   "execution_count": 4,
   "id": "bf9a01f8-5e18-4d68-badf-ad86fda352a9",
   "metadata": {
    "tags": []
   },
   "outputs": [
    {
     "name": "stdout",
     "output_type": "stream",
     "text": [
      "x + 4 =  [4 5 6 7]\n",
      " x * 2 =  [0 2 4 6]\n",
      "x - 5 =  [-5 -4 -3 -2]\n",
      "x / 2 =  [0.  0.5 1.  1.5]\n",
      "x // 2 =  [0 0 1 1]\n",
      "-x =  [ 0 -1 -2 -3]\n",
      "x ** 2 =  [0 1 4 9]\n",
      "x % 5 =  [0 1 2 3]\n"
     ]
    }
   ],
   "source": [
    "print(\"x + 4 = \", x+4)\n",
    "print(\" x * 2 = \", x*2)\n",
    "print(\"x - 5 = \", x-5)\n",
    "print(\"x / 2 = \", x/2)\n",
    "print(\"x // 2 = \", x//2)\n",
    "print(\"-x = \", -x)\n",
    "print(\"x ** 2 = \", x**2)\n",
    "print(\"x % 5 = \", x%5)"
   ]
  },
  {
   "cell_type": "code",
   "execution_count": 5,
   "id": "761fa2a0-8328-4b5c-a84c-7b4060cfe942",
   "metadata": {
    "tags": []
   },
   "outputs": [
    {
     "data": {
      "text/plain": [
       "array([1.  , 0.25, 0.  , 0.25])"
      ]
     },
     "execution_count": 5,
     "metadata": {},
     "output_type": "execute_result"
    }
   ],
   "source": [
    "(-0.5*x+1)**2"
   ]
  },
  {
   "cell_type": "code",
   "execution_count": 6,
   "id": "dd05bb85-fbdc-4b24-b0d3-a3a5b4ac0263",
   "metadata": {
    "tags": []
   },
   "outputs": [
    {
     "data": {
      "text/plain": [
       "array([2, 3, 4, 5])"
      ]
     },
     "execution_count": 6,
     "metadata": {},
     "output_type": "execute_result"
    }
   ],
   "source": [
    "np.add(x, 2)"
   ]
  },
  {
   "cell_type": "code",
   "execution_count": null,
   "id": "3bad772c-be91-4cfd-a217-146a45b0a4f4",
   "metadata": {},
   "outputs": [],
   "source": []
  }
 ],
 "metadata": {
  "kernelspec": {
   "display_name": "Python 3 (ipykernel)",
   "language": "python",
   "name": "python3"
  },
  "language_info": {
   "codemirror_mode": {
    "name": "ipython",
    "version": 3
   },
   "file_extension": ".py",
   "mimetype": "text/x-python",
   "name": "python",
   "nbconvert_exporter": "python",
   "pygments_lexer": "ipython3",
   "version": "3.10.11"
  }
 },
 "nbformat": 4,
 "nbformat_minor": 5
}
